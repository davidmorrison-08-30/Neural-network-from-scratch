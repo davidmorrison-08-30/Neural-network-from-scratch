{
  "nbformat": 4,
  "nbformat_minor": 0,
  "metadata": {
    "colab": {
      "provenance": [],
      "authorship_tag": "ABX9TyNUqFuQnt3RQ+mUXNNEsARt",
      "include_colab_link": true
    },
    "kernelspec": {
      "name": "python3",
      "display_name": "Python 3"
    },
    "language_info": {
      "name": "python"
    }
  },
  "cells": [
    {
      "cell_type": "markdown",
      "metadata": {
        "id": "view-in-github",
        "colab_type": "text"
      },
      "source": [
        "<a href=\"https://colab.research.google.com/github/davidmorrison-08-30/Neural-network-from-scratch/blob/main/Neural_network.ipynb\" target=\"_parent\"><img src=\"https://colab.research.google.com/assets/colab-badge.svg\" alt=\"Open In Colab\"/></a>"
      ]
    },
    {
      "cell_type": "markdown",
      "source": [
        "# **PREPARATION**"
      ],
      "metadata": {
        "id": "UOHRqn6Zpvq7"
      }
    },
    {
      "cell_type": "code",
      "execution_count": 18,
      "metadata": {
        "id": "aX8Gw7WlbW-U"
      },
      "outputs": [],
      "source": [
        "# importing necessary packages\n",
        "import numpy as np\n",
        "import pandas as pd\n",
        "import seaborn as sns\n",
        "import matplotlib.pyplot as plt\n",
        "from sklearn.model_selection import train_test_split\n",
        "from sklearn.preprocessing import StandardScaler, OrdinalEncoder, LabelEncoder\n",
        "from google.colab import drive"
      ]
    },
    {
      "cell_type": "code",
      "source": [
        "# drive.mount('/content/gdrive')"
      ],
      "metadata": {
        "id": "P_c7I1tSb6-_"
      },
      "execution_count": 19,
      "outputs": []
    },
    {
      "cell_type": "code",
      "source": [
        "# Activation functions\n",
        "relu = lambda x: np.maximum(x, 0)\n",
        "logistic = lambda x: 1 / (1 + np.exp(-x))"
      ],
      "metadata": {
        "id": "gr8ID06qc7J5"
      },
      "execution_count": 20,
      "outputs": []
    },
    {
      "cell_type": "code",
      "source": [
        "# Derivatives of Activation functions\n",
        "d_relu = lambda x: x > 0\n",
        "d_logistic = lambda x: np.exp(-x) / (1 + np.exp(-x)) ** 2"
      ],
      "metadata": {
        "id": "CiVCJeHfdluU"
      },
      "execution_count": 21,
      "outputs": []
    },
    {
      "cell_type": "code",
      "source": [
        "class NeuralNetwork:\n",
        "  def __init__(self, learning_rate):\n",
        "    self.w_hidden = np.random.rand(3, 3)\n",
        "    self.w_output = np.random.rand(1, 3)\n",
        "    self.b_hidden = np.random.rand(3, 1)\n",
        "    self.b_output = np.random.rand(1, 1)\n",
        "    self.L = learning_rate\n",
        "\n",
        "  def forward_prop(self, X):\n",
        "    Z1 = self.w_hidden @ X + self.b_hidden\n",
        "    A1 = relu(Z1)   \n",
        "    Z2 = self.w_output @ A1 + self.b_output\n",
        "    A2 = logistic(Z2)\n",
        "    return Z1, A1, Z2, A2  \n",
        "\n",
        "  def backward_prop(self, Z1, A1, Z2, A2, X, Y):\n",
        "    dC_dA2 = 2 * A2 - 2 * Y    \n",
        "    dA2_dZ2 = d_logistic(Z2)    \n",
        "    dZ2_dA1 = self.w_output    \n",
        "    dZ2_dW2 = A1    \n",
        "    dZ2_dB2 = 1    \n",
        "    dA1_dZ1 = d_relu(Z1)    \n",
        "    dZ1_dW1 = X    \n",
        "    dZ1_dB1 = 1    \n",
        "    dC_dW2 = dC_dA2 @ dA2_dZ2 @ dZ2_dW2.T    \n",
        "    dC_dB2 = dC_dA2 @ dA2_dZ2 * dZ2_dB2    \n",
        "    dC_dA1 = dC_dA2 @ dA2_dZ2 @ dZ2_dA1    \n",
        "    dC_dW1 = dC_dA1 @ dA1_dZ1 @ dZ1_dW1.T    \n",
        "    dC_dB1 = dC_dA1 @ dA1_dZ1 * dZ1_dB1\n",
        "\n",
        "    return dC_dW1, dC_dB1, dC_dW2, dC_dB2\n",
        "  \n",
        "  def fit(self, X, y):\n",
        "\n",
        "    for i in range(100000):\n",
        "      # randomly select one of the training data    \n",
        "      idx = np.random.choice(n, 1, replace=False)\n",
        "      X_sample = X_train[idx].transpose()    \n",
        "      Y_sample = Y_train[idx]\n",
        "      # run randomly selected training data through neural network   \n",
        "\n",
        "      Z1, A1, Z2, A2 = self.forward_prop(X_sample)\n",
        "\n",
        "      # distribute error through backpropagation\n",
        "      # and return slopes for weights and biases    \n",
        "\n",
        "      dW1, dB1, dW2, dB2 = self.backward_prop(Z1, A1, Z2, A2, X_sample, Y_sample)\n",
        "\n",
        "      # update weights and biases    \n",
        "      self.w_hidden -= self.L * dW1    \n",
        "      self.b_hidden -= self.L * dB1    \n",
        "      self.w_output -= self.L * dW2    \n",
        "      self.b_output -= self.L * dB2"
      ],
      "metadata": {
        "id": "aPN_8WBPowub"
      },
      "execution_count": 33,
      "outputs": []
    },
    {
      "cell_type": "markdown",
      "source": [
        "# **DATA PREPROCESSING**"
      ],
      "metadata": {
        "id": "0aJcLrL2p2ml"
      }
    },
    {
      "cell_type": "code",
      "source": [
        "all_data = pd.read_csv(\"https://tinyurl.com/y2qmhfsr\")"
      ],
      "metadata": {
        "id": "VMOGahUUb8Fx"
      },
      "execution_count": 23,
      "outputs": []
    },
    {
      "cell_type": "code",
      "source": [
        "# Extract the input columns, scale down by 255\n",
        "all_inputs = (all_data.iloc[:, 0:3].values / 255.0)\n",
        "all_outputs = all_data.iloc[:, -1].values"
      ],
      "metadata": {
        "id": "UlT4B6I3cduf"
      },
      "execution_count": 24,
      "outputs": []
    },
    {
      "cell_type": "markdown",
      "source": [
        "# **SPLIT DATA**"
      ],
      "metadata": {
        "id": "YVIoloupqPTM"
      }
    },
    {
      "cell_type": "code",
      "source": [
        "# Split train and test data sets\n",
        "X_train, X_test, Y_train, Y_test = train_test_split(all_inputs, all_outputs, test_size=0.2)\n",
        "n = X_train.shape[0]"
      ],
      "metadata": {
        "id": "ObvXKsQSciTZ"
      },
      "execution_count": 25,
      "outputs": []
    },
    {
      "cell_type": "markdown",
      "source": [
        "# **TRAINING AND EVALUATION OF THE NEURAL NETWORK**"
      ],
      "metadata": {
        "id": "sllVltlfrKqO"
      }
    },
    {
      "cell_type": "code",
      "source": [
        "model = NeuralNetwork(learning_rate=0.05)\n",
        "model.fit(X_train, Y_train)"
      ],
      "metadata": {
        "id": "8Dm-NsqFqUdO"
      },
      "execution_count": 34,
      "outputs": []
    },
    {
      "cell_type": "code",
      "source": [
        "# Calculate accuracy\n",
        "test_predictions = model.forward_prop(X_test.transpose())[3]  # grab only A2\n",
        "test_comparisons = np.equal((test_predictions >= .5).flatten().astype(int), Y_test)\n",
        "accuracy = sum(test_comparisons.astype(int) / X_test.shape[0])\n",
        "print(f\"ACCURACY ON TEST SET: {accuracy}\")"
      ],
      "metadata": {
        "id": "-8q4rp18gotH",
        "colab": {
          "base_uri": "https://localhost:8080/"
        },
        "outputId": "5f90caed-09f3-4b25-fdc5-745e2aed80e1"
      },
      "execution_count": 35,
      "outputs": [
        {
          "output_type": "stream",
          "name": "stdout",
          "text": [
            "ACCURACY ON TEST SET: 0.9776951672862481\n"
          ]
        }
      ]
    }
  ]
}